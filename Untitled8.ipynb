{
 "cells": [
  {
   "cell_type": "code",
   "execution_count": 48,
   "id": "862e079c-dec6-43cc-b0c5-b76240bbab68",
   "metadata": {},
   "outputs": [
    {
     "name": "stdout",
     "output_type": "stream",
     "text": [
      "[14 12 11 10]\n",
      "concatenate function joining two array\n",
      "concatenate function is [[ 2  4  6]\n",
      " [ 3  6  9]\n",
      " [10 12 15]\n",
      " [12 15 20]]\n"
     ]
    }
   ],
   "source": [
    "#using numpy \n",
    "import numpy as np \n",
    "arr=np.array([1,2,3,4,6,5,9,10,11,12,14,78,62,75])\n",
    "#reversing the given data \n",
    "res=np.flip(arr[-7:-3])\n",
    "print(res)\n",
    "#using numpy\n",
    "import numpy as np\n",
    "#assigning the data\n",
    "arr=np.array([[2,4,6],[3,6,9]])\n",
    "arr1=np.array([[10,12,15],[12,15,20]])\n",
    "#inversing the concatenate()\n",
    "con=np.concatenate((arr,arr1),axis=0)\n",
    "print(\"concatenate function joining two array\")\n",
    "print(\"concatenate function is\",(con))"
   ]
  },
  {
   "cell_type": "code",
   "execution_count": null,
   "id": "fb5d5589-6dfd-4fbe-8aa0-8bb73f2734df",
   "metadata": {},
   "outputs": [],
   "source": []
  }
 ],
 "metadata": {
  "kernelspec": {
   "display_name": "Python 3 (ipykernel)",
   "language": "python",
   "name": "python3"
  },
  "language_info": {
   "codemirror_mode": {
    "name": "ipython",
    "version": 3
   },
   "file_extension": ".py",
   "mimetype": "text/x-python",
   "name": "python",
   "nbconvert_exporter": "python",
   "pygments_lexer": "ipython3",
   "version": "3.12.4"
  }
 },
 "nbformat": 4,
 "nbformat_minor": 5
}
